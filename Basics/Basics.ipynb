{
 "cells": [
  {
   "cell_type": "code",
   "execution_count": 12,
   "metadata": {},
   "outputs": [
    {
     "name": "stdout",
     "output_type": "stream",
     "text": [
      "Given number is odd\n"
     ]
    }
   ],
   "source": [
    "# 1. even or odd\n",
    "\n",
    "num = int(input(\"enter a number: 47\"))\n",
    "\n",
    "if num % 2 == 0:\n",
    "    print(\"Given number is even\")\n",
    "\n",
    "else:\n",
    "    print(\"Given number is odd\") \n",
    "\n"
   ]
  },
  {
   "cell_type": "code",
   "execution_count": 11,
   "metadata": {},
   "outputs": [
    {
     "name": "stdout",
     "output_type": "stream",
     "text": [
      "Last digit of 56 is 6\n"
     ]
    }
   ],
   "source": [
    "# 2. last digits\n",
    "\n",
    "num = int(input(\"enter a number: 56\"))\n",
    "\n",
    "print(\"Last digit of\",num,\"is\",num%10)"
   ]
  },
  {
   "cell_type": "code",
   "execution_count": 10,
   "metadata": {},
   "outputs": [
    {
     "name": "stdout",
     "output_type": "stream",
     "text": [
      "1\n"
     ]
    }
   ],
   "source": [
    "# 3. count digits\n",
    "\n",
    "num = int(input(\"enter a number 4\"))\n",
    "\n",
    "count = 0\n",
    "while num != 0:\n",
    "    num = num // 10\n",
    "    count += 1\n",
    "print(count)"
   ]
  },
  {
   "cell_type": "code",
   "execution_count": 9,
   "metadata": {},
   "outputs": [
    {
     "name": "stdout",
     "output_type": "stream",
     "text": [
      "Reversed number: 6909583\n"
     ]
    }
   ],
   "source": [
    "# 4 . Reverese a number\n",
    "\n",
    "num = int(input(\"Enter a number 38590960\"))\n",
    "\n",
    "reverse = 0\n",
    "while num != 0:\n",
    "    digit = num % 10\n",
    "    reverse = reverse * 10 + digit\n",
    "    num = num // 10\n",
    "print(\"Reversed number:\", reverse)\n"
   ]
  },
  {
   "cell_type": "code",
   "execution_count": 15,
   "metadata": {},
   "outputs": [
    {
     "name": "stdout",
     "output_type": "stream",
     "text": [
      "8\n"
     ]
    }
   ],
   "source": [
    "# 5. Find power of a number\n",
    "\n",
    "def power(x, n):\n",
    "    pow = 1\n",
    "    for i in range(n):\n",
    "        pow = pow * x\n",
    "\n",
    "    return pow\n",
    "if __name__ == '__main__':\n",
    "\n",
    "    x = 2\n",
    "    n = 3\n",
    "    print(power(x, n)) \n"
   ]
  },
  {
   "cell_type": "code",
   "execution_count": 4,
   "metadata": {},
   "outputs": [
    {
     "name": "stdout",
     "output_type": "stream",
     "text": [
      "GCD is 1\n"
     ]
    }
   ],
   "source": [
    "# 6 . GCD\n",
    "\n",
    "a = int(input(\"6\"))\n",
    "b= int(input(\"7\"))\n",
    "\n",
    "while b>0:\n",
    "    r = a % b\n",
    "    a=b\n",
    "    b=r\n",
    "    GCD  = a\n",
    "print(\"GCD is\",GCD)\n",
    "\n",
    "\n"
   ]
  },
  {
   "cell_type": "code",
   "execution_count": 14,
   "metadata": {},
   "outputs": [
    {
     "name": "stdout",
     "output_type": "stream",
     "text": [
      "The divisors of 100 are: \n",
      "1 2 4 5 10 20 "
     ]
    }
   ],
   "source": [
    "# 7. Print all divisors of a number\n",
    " \n",
    "def printDivisors(n) :\n",
    "    i = 1\n",
    "    while i <= n :\n",
    "        if (n % i==0) :\n",
    "            print (i,end=\" \")\n",
    "        i = i + 1\n",
    "        \n",
    "print (\"The divisors of 100 are: \")\n",
    "printDivisors(20)"
   ]
  },
  {
   "cell_type": "code",
   "execution_count": 18,
   "metadata": {},
   "outputs": [
    {
     "name": "stdout",
     "output_type": "stream",
     "text": [
      "34 is not a prime number\n"
     ]
    }
   ],
   "source": [
    "# 8.Prime number(Try solving by yourself) \n",
    "\n",
    "\n",
    "num = int(input(\"Enter a number: 34 \"))\n",
    "\n",
    "flag = 1\n",
    "for i in range(2, n):\n",
    "    if (num % i == 0):\n",
    "        flag = 0\n",
    "        break\n",
    "    \n",
    "if (flag == 1):\n",
    "    print(num, \"is a prime number\")\n",
    "else:\n",
    "    print(num, \"is not a prime number\")   \n",
    "    \n",
    "    \n",
    "    \n",
    "    \n",
    "        \n"
   ]
  },
  {
   "cell_type": "code",
   "execution_count": 20,
   "metadata": {},
   "outputs": [
    {
     "name": "stdout",
     "output_type": "stream",
     "text": [
      "153 is an Armstrong number\n"
     ]
    }
   ],
   "source": [
    "# 9. Armstrong number(Solving power of number, will make this easy for you) \n",
    "\n",
    "num = int(input(\"Enter a number: 153 \"))\n",
    "\n",
    "sum = 0\n",
    "\n",
    "temp = num\n",
    "\n",
    "while temp > 0:\n",
    "    digit = temp % 10\n",
    "    sum += digit ** 3\n",
    "    temp //= 10\n",
    "    \n",
    "if n == sum:\n",
    "    print(num, \"is an Armstrong number\")\n",
    "else:\n",
    "    print(num, \"is not an Armstrong number\")\n",
    "    "
   ]
  },
  {
   "cell_type": "code",
   "execution_count": 21,
   "metadata": {},
   "outputs": [
    {
     "name": "stdout",
     "output_type": "stream",
     "text": [
      "121 is a palindrome number\n"
     ]
    }
   ],
   "source": [
    "# 10.Check palindrome of number(Use the techniques you learnt so far solving above probs and solve this by yourself)\n",
    "\n",
    "num = int(input(\"Enter a number: 121 \"))\n",
    "\n",
    "temp = num\n",
    "rev = 0\n",
    "while temp > 0:\n",
    "    digit = temp % 10\n",
    "    rev = (rev * 10) + digit\n",
    "    temp //= 10\n",
    "    \n",
    "if num == rev:\n",
    "    print(num, \"is a palindrome number\")\n",
    "else:\n",
    "    print(num, \"is not a palindrome number\")\n",
    "\n",
    "\n"
   ]
  },
  {
   "cell_type": "code",
   "execution_count": 22,
   "metadata": {},
   "outputs": [
    {
     "name": "stdout",
     "output_type": "stream",
     "text": [
      "Square root of 25 is 5.0\n"
     ]
    }
   ],
   "source": [
    "# 11.Square root of a number(Try to first figure out algo to solve this)\n",
    "\n",
    "num = int(input(\"Enter a number: 25 \"))\n",
    "\n",
    "sqrt = num ** 0.5   \n",
    "print(\"Square root of\",num,\"is\",sqrt)\n"
   ]
  },
  {
   "cell_type": "code",
   "execution_count": 23,
   "metadata": {},
   "outputs": [
    {
     "name": "stdout",
     "output_type": "stream",
     "text": [
      "6 is a perfect number\n"
     ]
    }
   ],
   "source": [
    "# 12.Perfect number\n",
    "\n",
    "num = int(input(\"Enter a number: 6 \"))\n",
    "\n",
    "sum = 0\n",
    "\n",
    "for digit in str(num):\n",
    "    sum += int(digit)\n",
    "    \n",
    "if num == sum:\n",
    "    print(num, \"is a perfect number\")\n",
    "else:\n",
    "    print(num, \"is not a perfect number\")"
   ]
  }
 ],
 "metadata": {
  "kernelspec": {
   "display_name": "Python 3",
   "language": "python",
   "name": "python3"
  },
  "language_info": {
   "codemirror_mode": {
    "name": "ipython",
    "version": 3
   },
   "file_extension": ".py",
   "mimetype": "text/x-python",
   "name": "python",
   "nbconvert_exporter": "python",
   "pygments_lexer": "ipython3",
   "version": "3.11.9"
  }
 },
 "nbformat": 4,
 "nbformat_minor": 2
}

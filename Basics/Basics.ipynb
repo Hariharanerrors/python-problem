{
 "cells": [
  {
   "cell_type": "code",
   "execution_count": 1,
   "metadata": {},
   "outputs": [
    {
     "name": "stdout",
     "output_type": "stream",
     "text": [
      "Given number is odd\n"
     ]
    }
   ],
   "source": [
    "# 1. even or odd\n",
    "\n",
    "num = int(input(\"enter a number:\"))\n",
    "\n",
    "if num % 2 == 0:\n",
    "    print(\"Given number is even\")\n",
    "\n",
    "else:\n",
    "    print(\"Given number is odd\") \n",
    "\n"
   ]
  },
  {
   "cell_type": "code",
   "execution_count": 2,
   "metadata": {},
   "outputs": [
    {
     "name": "stdout",
     "output_type": "stream",
     "text": [
      "Last digit of 100 is 0\n"
     ]
    }
   ],
   "source": [
    "# 2. last digits\n",
    "\n",
    "num = int(input(\"enter a number:\"))\n",
    "\n",
    "print(\"Last digit of\",num,\"is\",num%10)"
   ]
  },
  {
   "cell_type": "code",
   "execution_count": 3,
   "metadata": {},
   "outputs": [
    {
     "name": "stdout",
     "output_type": "stream",
     "text": [
      "2\n"
     ]
    }
   ],
   "source": [
    "# 3. count digits\n",
    "\n",
    "num = int(input(\"enter a number\"))\n",
    "\n",
    "count = 0\n",
    "while num != 0:\n",
    "    num = num // 10\n",
    "    count += 1\n",
    "print(count)"
   ]
  },
  {
   "cell_type": "code",
   "execution_count": 3,
   "metadata": {},
   "outputs": [
    {
     "name": "stdout",
     "output_type": "stream",
     "text": [
      "Reversed number: 221\n"
     ]
    }
   ],
   "source": [
    "# 4 . Reverese a number\n",
    "\n",
    "num = int(input(\"Enter a number \"))\n",
    "\n",
    "reverse = 0\n",
    "while num != 0:\n",
    "    digit = num % 10\n",
    "    reverse = reverse * 10 + digit\n",
    "    num = num // 10\n",
    "print(\"Reversed number:\", reverse)\n"
   ]
  }
 ],
 "metadata": {
  "kernelspec": {
   "display_name": "Python 3",
   "language": "python",
   "name": "python3"
  },
  "language_info": {
   "codemirror_mode": {
    "name": "ipython",
    "version": 3
   },
   "file_extension": ".py",
   "mimetype": "text/x-python",
   "name": "python",
   "nbconvert_exporter": "python",
   "pygments_lexer": "ipython3",
   "version": "3.11.9"
  }
 },
 "nbformat": 4,
 "nbformat_minor": 2
}
